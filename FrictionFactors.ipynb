{
 "cells": [
  {
   "cell_type": "code",
   "execution_count": 16,
   "metadata": {},
   "outputs": [],
   "source": [
    "import numpy as np  #Importing NumPy\n",
    "import math "
   ]
  },
  {
   "cell_type": "code",
   "execution_count": 17,
   "metadata": {},
   "outputs": [],
   "source": [
    "from scipy.optimize import fsolve\n",
    "import matplotlib.pyplot as plt"
   ]
  },
  {
   "cell_type": "code",
   "execution_count": 1,
   "metadata": {},
   "outputs": [],
   "source": [
    "#Calculate fracture permeabilities\n",
    "import random\n",
    "def FracturePermeability(n,Kb,FractureWidth,FractureHeight,premact):\n",
    "    Kf=np.zeros(n)\n",
    "    for i in range(n):\n",
    "        if premact==0:\n",
    "            Kf[i]=Kb\n",
    "            #Af[i]=FractureWidth*FractureHeight\n",
    "        else:\n",
    "            rndnum=(random.uniform(1, 10))\n",
    "            rndnum1=(random.choice([-1, 0, 1]))  #Magnitude\n",
    "            #Wf[i]=rndnum*(10**rndnum1)*(12*Kb)**0.5\n",
    "            #Kf[i]=(Wf[i]**2)/12\n",
    "            Kf[i]=rndnum*Kb*(10**rndnum1)\n",
    "            #Af[i]=Wpseudo*breadth\n",
    "    return Kf"
   ]
  },
  {
   "cell_type": "code",
   "execution_count": 18,
   "metadata": {},
   "outputs": [],
   "source": [
    "#Reynolds Number\n",
    "def Rep(q,D):\n",
    "    re=1000*(q/(math.pi*D**2*0.25))*D/(8.91e-4)\n",
    "    return re"
   ]
  },
  {
   "cell_type": "code",
   "execution_count": 19,
   "metadata": {},
   "outputs": [],
   "source": [
    "#Colebrook–White equation\n",
    "def cole(f,e,D,Rep):\n",
    "    resid=(1/f**0.5)+2*math.log10((e/(3.7*D))+2.51/(Rep*f**0.5))\n",
    "    return resid"
   ]
  },
  {
   "cell_type": "code",
   "execution_count": 20,
   "metadata": {},
   "outputs": [],
   "source": [
    "#Pressure Drop in Pipe\n",
    "def Fhal(e,D,Rep):\n",
    "    if Rep<=4000: #Haaland’s equation\n",
    "        f=1/(-1.8*math.log10(((e/D)/3.7)**1.1+(6.9/Rep)))**2\n",
    "    else:  #Colebrook–White equation\n",
    "        f=fsolve(cole,0.01,args=(e,D,Rep),xtol=1e-10)\n",
    "    return f"
   ]
  },
  {
   "cell_type": "code",
   "execution_count": 21,
   "metadata": {},
   "outputs": [],
   "source": [
    "#Fanning friction factor\n",
    "def Ffan(Rep):\n",
    "    f=16/Rep\n",
    "    return f"
   ]
  },
  {
   "cell_type": "code",
   "execution_count": 22,
   "metadata": {},
   "outputs": [],
   "source": [
    "#Pressure drop in Frac\n",
    "#P. A. WITHERSPOON #Validity of Cubic Law for Fluid Flow in a Deformable Rock Fracture \n",
    "def Pfrac(q,L,W,af,ff):\n",
    "    Pfrac=12*8.91e-4*q*L*ff/(W*af**3)\n",
    "    return Pfrac"
   ]
  },
  {
   "cell_type": "code",
   "execution_count": 24,
   "metadata": {},
   "outputs": [],
   "source": [
    "#Flow rate in Fracs with Darcy and all Perforations\n",
    "def temp1(Qfrac,Pfrac,L,A,k,Cd,Np,DPinj,DPpro):\n",
    "    resid=Pfrac-(Qfrac*L*8.91e-4/(k*A))-(Qfrac**2*1000*0.808060652/((Cd**2)*(Np**2)*(DPinj**4)))-(Qfrac**2*1000*0.808060652/((Cd**2)*(Np**2)*(DPpro**4)))\n",
    "    return resid\n",
    "def Q_all_perfs(Pfrac,L,A,k,Cd,Np,DPinj,DPpro):\n",
    "    Qfrac=fsolve(temp1,0.01,args=(Pfrac,L,A,k,Cd,Np,DPinj,DPpro),xtol=1e-10)\n",
    "    return Qfrac"
   ]
  },
  {
   "cell_type": "code",
   "execution_count": 31,
   "metadata": {},
   "outputs": [],
   "source": [
    "#Flow rate in Fracs with Darcy and only Injection Perforations\n",
    "def temp2(Qfrac,Pfrac,L,A,k,Cd,Np,DPinj):\n",
    "    resid=Pfrac-(Qfrac*L*8.91e-4/(k*A))-(Qfrac**2*1000*0.808060652/((Cd**2)*(Np**2)*(DPinj**4)))\n",
    "    return resid\n",
    "def Q_Injection_perfs(Pfrac,L,A,k,Cd,Np,DPinj):\n",
    "    Qfrac=fsolve(temp2,0.01,args=(Pfrac,L,A,k,Cd,Np,DPinj),xtol=1e-10)\n",
    "    return Qfrac"
   ]
  },
  {
   "cell_type": "code",
   "execution_count": null,
   "metadata": {},
   "outputs": [],
   "source": [
    "#Flow rate in Fracs with Darcy and only Production Perforations\n",
    "def temp3(Qfrac,Pfrac,L,A,k,Cd,Np,DPpro):\n",
    "    resid=Pfrac-(Qfrac*L*8.91e-4/(k*A))-(Qfrac**2*1000*0.808060652/((Cd**2)*(Np**2)*(DPpro**4)))\n",
    "    return resid\n",
    "def Q_Production_perfs(Pfrac,L,A,k,Cd,Np,DPpro):\n",
    "    Qfrac=fsolve(temp3,0.01,args=(Pfrac,L,A,k,Cd,Np,DPpro),xtol=1e-10)\n",
    "    return Qfrac"
   ]
  },
  {
   "cell_type": "code",
   "execution_count": 26,
   "metadata": {},
   "outputs": [],
   "source": [
    "#Flow rate in Fracs with Darcy and no Perforations\n",
    "def temp4(Qfrac,Pfrac,L,A,k):\n",
    "    resid=Pfrac-(Qfrac*L*8.91e-4/(k*A))-(Qfrac**2*1000*0.808060652)-(Qfrac**2*1000*0.808060652)\n",
    "    return resid\n",
    "def Q_No_perfs(Pfrac,L,A,k):\n",
    "    Qfrac=fsolve(temp4,0.01,args=(Pfrac,L,A,k),xtol=1e-10)\n",
    "    return Qfrac"
   ]
  },
  {
   "cell_type": "code",
   "execution_count": 27,
   "metadata": {},
   "outputs": [],
   "source": [
    "#Pressure drop in Frac Darcy\n",
    "#Darcy's Law\n",
    "def Pfdarcy(q,L,A,k):\n",
    "    Pfrac=q*8.91e-4*L/(k*A)\n",
    "    return Pfrac"
   ]
  },
  {
   "cell_type": "code",
   "execution_count": 28,
   "metadata": {},
   "outputs": [],
   "source": [
    "#Flow rate in Fracs Darcy\n",
    "#Darcy's Law\n",
    "def Qfdarcy(Pfrac,L,A,k):\n",
    "    q=Pfrac*k*A/(L*8.91e-4)\n",
    "    return q"
   ]
  },
  {
   "cell_type": "code",
   "execution_count": 29,
   "metadata": {},
   "outputs": [],
   "source": [
    "#Pressure drop in Perforations\n",
    "#Weddle and Cramer\n",
    "def Pperf(q,Cd,Np,Dp):\n",
    "    Pperf=0.808060652*(q**2)*1000/((Cd**2)*(Np**2)*(Dp**4))\n",
    "    return Pperf"
   ]
  },
  {
   "cell_type": "code",
   "execution_count": 30,
   "metadata": {},
   "outputs": [],
   "source": [
    "#Pressure plots\n",
    "def pplots(P,n,name,save,path):\n",
    "    distpct=np.empty(n)\n",
    "    temp=np.empty(n)\n",
    "    plt.figure(figsize = (8,5))\n",
    "    pmin=min(P)\n",
    "    pmax=max(P)\n",
    "    plt.ylim(ymin=pmin*0.95)\n",
    "    plt.ylim(ymax=pmax*1.05)\n",
    "    if name==\"Width\":\n",
    "        plt.ylim(ymin=pmin*0.90*1000)\n",
    "        plt.ylim(ymax=pmax*1.1*1000)\n",
    "    # set width of bar\n",
    "    barWidth = 1*(n-1)/(n+1)\n",
    "\n",
    "    for i in range(0,n):\n",
    "        distpct[i]=P[i]\n",
    "        if name==\"Width\":\n",
    "            distpct[i]=P[i]*1000\n",
    "    x = np.linspace(1, n, n)\n",
    "    plt.bar(x,distpct,width=barWidth,zorder=2,color='teal')\n",
    "    # Add xticks on the middle of the group bars\n",
    "    plt.xticks(np.arange(1, n+1, step=1))\n",
    "    plt.xlabel('Fracture Number', fontweight='bold',fontsize=14)\n",
    "    plt.ylabel('Pressure (Pa)', fontweight='bold',fontsize=14)\n",
    "    plt.title('\\n%s Pressure Distribution in Fractures' %name, fontweight='bold',fontsize=18)\n",
    "    if name==\"Permeability\":\n",
    "        plt.yscale('log')\n",
    "        plt.grid(which='minor', linestyle=':', linewidth='0.5', color='black')\n",
    "        plt.title('\\n%s Distribution in Fractures' %name, fontweight='bold',fontsize=18)\n",
    "        plt.ylabel('Permeability m2', fontweight='bold',fontsize=14)\n",
    "        plt.hlines(math.prod(P)**(1/len(P)), 0, n+1, colors='r', linestyles='solid',zorder=3)  \n",
    "    #plt.legend(loc=\"upper center\",ncol=3,bbox_to_anchor= (0.5, -0.15),prop={'size': 12},frameon=True)\n",
    "    plt.grid(which='major', axis='both',color='lightgrey',zorder=1)\n",
    "    if save==\"yes\":\n",
    "        plt.savefig(r'%s/%s.png' %(path,name), bbox_inches='tight')\n",
    "       # plt.savefig(r'C:\\Users\\prana\\Google Drive (u1011561@gcloud.utah.edu)\\PhD\\Geothermal\\AnalyticalModel\\Images\\%s.png' %name, bbox_inches='tight')\n",
    "    return plt.show()\n",
    "    "
   ]
  },
  {
   "cell_type": "code",
   "execution_count": null,
   "metadata": {},
   "outputs": [],
   "source": []
  },
  {
   "cell_type": "code",
   "execution_count": null,
   "metadata": {},
   "outputs": [],
   "source": []
  }
 ],
 "metadata": {
  "kernelspec": {
   "display_name": "Python 3",
   "language": "python",
   "name": "python3"
  },
  "language_info": {
   "codemirror_mode": {
    "name": "ipython",
    "version": 3
   },
   "file_extension": ".py",
   "mimetype": "text/x-python",
   "name": "python",
   "nbconvert_exporter": "python",
   "pygments_lexer": "ipython3",
   "version": "3.8.3"
  }
 },
 "nbformat": 4,
 "nbformat_minor": 4
}
