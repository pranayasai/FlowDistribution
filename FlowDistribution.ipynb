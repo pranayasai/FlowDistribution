{
 "cells": [
  {
   "cell_type": "code",
   "execution_count": 274,
   "metadata": {},
   "outputs": [],
   "source": [
    "#      o----/\\/\\/\\----|----/\\/\\/\\----|----/\\/\\/\\----|----/\\/\\/\\----|\n",
    "#                     |              |              |              |\n",
    "#                     /              /              /              /\n",
    "#                     \\              \\              \\              /\n",
    "#                     /              /              /              /\n",
    "#                     |              |              |              |\n",
    "#      o----/\\/\\/\\----|----/\\/\\/\\----|----/\\/\\/\\----|----/\\/\\/\\----|\n",
    "\n",
    "#                 |----/\\/\\/\\----|----/\\/\\/\\----|----/\\/\\/\\----|----/\\/\\/\\----o\n",
    "#                 |              |              |              |\n",
    "#                 /              /              /              /\n",
    "#                 \\              \\              \\              \\\n",
    "#                 /              /              /              /\n",
    "#                 |              |              |              |\n",
    "#  o----/\\/\\/\\----|----/\\/\\/\\----|----/\\/\\/\\----|----/\\/\\/\\----|"
   ]
  },
  {
   "cell_type": "code",
   "execution_count": 272,
   "metadata": {},
   "outputs": [],
   "source": [
    "import numpy as np  #Importing NumPy\n",
    "import math\n",
    "import matplotlib.pyplot as plt\n",
    "import random\n",
    "from ipynb.fs.defs.FrictionFactors import Fhal, Ffan, Rep, Pfrac, Qfrac, Pperf, pplots, Qfdarcy, Pfdarcy"
   ]
  },
  {
   "cell_type": "code",
   "execution_count": 273,
   "metadata": {},
   "outputs": [],
   "source": [
    "import platform\n",
    "is_windows = any(platform.win32_ver())\n",
    "if is_windows==True:\n",
    "    path=r'C:\\Users\\prana\\Google Drive (u1011561@gcloud.utah.edu)\\PhD\\Geothermal\\AnalyticalModel\\Images'\n",
    "else:\n",
    "    path=r'/Users/asai/Google Drive (u1011561@gcloud.utah.edu)/PhD/Geothermal/AnalyticalModel/Images/'"
   ]
  },
  {
   "cell_type": "code",
   "execution_count": 275,
   "metadata": {},
   "outputs": [],
   "source": [
    "#Activate Perforation\n",
    "pact=1   #If 0, perforation pressure drop is zero.\n",
    "#Direction of well\n",
    "dircn=0  #If 1, the wells are counter parallel\n",
    "#Variable Permeablity\n",
    "premact=0 #If 0, All fractures have same permeability\n",
    "#Adaptive Perf Dia\n",
    "pfdia=0 #If 0, Adaptive dia is off.\n",
    "#Angular wells\n",
    "d1=0 #Enter the difference between the first and last fracture size"
   ]
  },
  {
   "cell_type": "code",
   "execution_count": 276,
   "metadata": {},
   "outputs": [
    {
     "name": "stdout",
     "output_type": "stream",
     "text": [
      "0.0\n"
     ]
    }
   ],
   "source": [
    "#For Fracture\n",
    "n=3 #Number of Fractures\n",
    "wlen=450 #m, Length of the well\n",
    "Kb=1e-12 #m2, #Fracture base Permebility\n",
    "breadth=100 #m Fracture entrance length\n",
    "Wpseudo=5.0 #m Fracture entrance pseudo width\n",
    "Lf0=100 #m Base Lenght of fractures\n",
    "\n",
    "#For Pipe\n",
    "Dinj=0.1778#524   #m Diameter of the Injection Pipe\n",
    "Dpro=0.1778#524   #m Diameter of the Production Pipe\n",
    "Ainj=math.pi*Dinj**2*0.25 #meters sq.\n",
    "Apro=math.pi*Dinj**2*0.25 #meters sq.\n",
    "den=1000 #kg/s\n",
    "e=0.015/1000  #roughness in m\n",
    "Li0=wlen/n #m Length of Inj pipe section\n",
    "Lp0=wlen/n #m Length of Prod pipe section\n",
    "ang1=math.atan((d1/2)/((n-1)*Li0)) #Angle of Injection well\n",
    "ang2=math.atan((d1/2)/((n-1)*Li0)) #Angle of Production well\n",
    "\n",
    "#For Perforation\n",
    "lenperf=1 #ft, length og each perf zone\n",
    "Cd=0.75 #Discharge Coefficient\n",
    "Nppl=6 # Number of perforations per foot\n",
    "Np=lenperf*Nppl #Number of Perforations\n",
    "DPinj0=0.009525#*0.25 #m, Diameter of perforations\n",
    "DPpro0=0.009525#*0.25 #m, Diameter of perforations\n",
    "Dp0=0.009525#*0.25 #m, Diameter of perforations\n",
    "print(math.degrees(ang1)*2)"
   ]
  },
  {
   "cell_type": "code",
   "execution_count": 277,
   "metadata": {},
   "outputs": [],
   "source": [
    "#Initialization\n",
    "Pi=np.zeros(n+1)\n",
    "Po=np.zeros(n+1)\n",
    "Pf=np.zeros(n)\n",
    "q=np.zeros(n)\n",
    "Lf=np.zeros(n)\n",
    "Li=np.zeros(n+1)\n",
    "Lp=np.zeros(n+1)\n",
    "Wf=np.zeros(n)\n",
    "Kf=np.zeros(n)\n",
    "Af=np.zeros(n)\n",
    "DPinj=np.zeros(n)\n",
    "DPpro=np.zeros(n)\n",
    "Dp=np.zeros(n)\n",
    "Tp=np.zeros(n)"
   ]
  },
  {
   "cell_type": "code",
   "execution_count": 278,
   "metadata": {},
   "outputs": [],
   "source": [
    "#Calculate fracture length and pipe length and set permeabilities\n",
    "for i in range(n):\n",
    "    Af[i]=Wpseudo*breadth\n",
    "    if premact==0:\n",
    "        Kf[i]=Kb\n",
    "        \n",
    "    else:\n",
    "        rndnum=(random.uniform(1, 10))\n",
    "        rndnum1=(random.choice([-1, 0, 1]))  #Magnitude\n",
    "        Kf[i]=rndnum*Kb*(10**rndnum1)"
   ]
  },
  {
   "cell_type": "code",
   "execution_count": 280,
   "metadata": {},
   "outputs": [],
   "source": [
    "#Calculate Perforations\n",
    "\n",
    "#Calculating Geometric mean of fractures\n",
    "GMean = math.prod(Kf)**(1/len(Kf))\n",
    "\n",
    "for i in range(n):\n",
    "    if premact==0:\n",
    "        if pfdia==1:\n",
    "            DPinj[i]=((i+2)**0.2/n**0.14)*DPinj0 #The inittial term is penalty for location\n",
    "            DPpro[i]=((i+2)**0.2/n**0.14)*DPpro0 #The inittial term is penalty for location\n",
    "        else:\n",
    "            DPinj[i]=DPinj0\n",
    "            DPpro[i]=DPpro0\n",
    "            #Tp[i]=((i+1)**0.3/n**0.3)*Dp0\n",
    "    else:\n",
    "        if pfdia==1:\n",
    "            DPinj[i]=DPinj0*(1.3**(math.log(GMean/Kf[i],10)))\n",
    "            DPpro[i]=DPinj0*(1.3**(math.log(GMean/Kf[i],10)))\n",
    "        else:\n",
    "            DPinj[i]=DPinj0\n",
    "            DPpro[i]=DPpro0\n",
    "            #Tp[i]=((i+1)**0.2/n**0.3)*Dp0/(rndnum)**2\n",
    "#print(Kf)"
   ]
  },
  {
   "cell_type": "code",
   "execution_count": 296,
   "metadata": {},
   "outputs": [],
   "source": [
    "#Flow Rate and Pressure\n",
    "Qi=15 #kg/s\n",
    "Pi[0]=8e7"
   ]
  },
  {
   "cell_type": "code",
   "execution_count": 297,
   "metadata": {},
   "outputs": [],
   "source": [
    "for i in range(n):\n",
    "    q[i]=Qi/n\n",
    "    Lf[i]=abs(Lf0+(n-i-1)*math.tan(ang1)*Li0+(n-i-1)*math.tan(ang2)*Lp0)\n",
    "for i in range(n+1):\n",
    "    Li[i]=Li0/math.cos(ang1)\n",
    "    Lp[i]=Lp0/math.cos(ang2)"
   ]
  },
  {
   "cell_type": "code",
   "execution_count": 298,
   "metadata": {},
   "outputs": [
    {
     "name": "stdout",
     "output_type": "stream",
     "text": [
      "500\n"
     ]
    }
   ],
   "source": [
    "qc=Qi/1000\n",
    "m=500 #number of iterations\n",
    "mmax=5000 #max number of iterations\n",
    "tol=1e-10 #Tolerance\n",
    "for j in range(m):\n",
    "    \n",
    "    #pressure drop in injection well\n",
    "    for i in range(n):\n",
    "        Pi[i+1]=Pi[i]-Fhal(e,Dinj,Rep(qc,Dinj))*2*Li[i+1]*den*(qc/Ainj)**2/Dinj\n",
    "        qc=qc-q[i]/1000\n",
    "    #Pressure drop in Production well\n",
    "    qc=q[n-1]/1000\n",
    "    if dircn==0:\n",
    "        #pressure drops in last Fracture\n",
    "        if pact==1: #Activated perforation drop\n",
    "            Po[n]=Pi[n]-Pfdarcy(q[n-1]/1000,Lf[n-1],Af[n-1],Kf[n-1])-Pperf(q[n-1]/1000,Cd,Np,DPinj[n-1])-Pperf(q[n-1]/1000,Cd,Np,DPpro[n-1])\n",
    "        else:    \n",
    "            Po[n]=Pi[n]-Pfdarcy(q[n-1]/1000,Lf[n-1],Af[n-1],Kf[n-1])\n",
    "        for i in range(n,0,-1):\n",
    "            Po[i-1]=Po[i]-Fhal(e,Dpro,Rep(qc,Dpro))*2*Lp[i-1]*den*(qc/Apro)**2/Dpro\n",
    "            qc=qc+q[i-1]/1000\n",
    "        #Flow Rate in all Fractures\n",
    "        qt=0\n",
    "        for i in range(n):\n",
    "            Pf[i]=Pi[i+1]-Po[i+1]\n",
    "            \n",
    "            #q[i]=Qfdarcy(Pf[i],Lf[i],Af[i],Kf[i])*1000\n",
    "            q[i]=Qfrac(Pf[i],Lf[i],Af[i],Kf[i],Cd,Np,DPinj[i],DPpro[i])*1000\n",
    "            qt=qt+q[i]\n",
    "    else:\n",
    "        #pressure drops in First Fracture\n",
    "        if pact==1: #Activated perforation drop\n",
    "            Po[0]=Pi[1]-Pfdarcy(q[0]/1000,Lf[0],Af[0],Kf[0])-Pperf(q[0]/1000,Cd,Np,DPinj[0])-Pperf(q[0]/1000,Cd,Np,DPpro[0])\n",
    "        else:    \n",
    "            Po[0]=Pi[1]-Pfdarcy(q[0]/1000,Lf[0],Af[0],Kf[0])\n",
    "        for i in range(0,n):\n",
    "            Po[i+1]=Po[i]-Fhal(e,Dpro,Rep(qc,Dpro))*2*Lp[i-1]*den*(qc/Apro)**2/Dpro\n",
    "            qc=qc+q[i-1]/1000\n",
    "        #Flow Rate in all Fractures including perf\n",
    "        qt=0\n",
    "        for i in range(n):\n",
    "            Pf[i]=Pi[i+1]-Po[i+1]\n",
    "            q[i]=Qfrac(Pf[i],Lf[i],Af[i],Kf[i],Cd,Np,DPinj[i],DPpro[i])*1000\n",
    "            qt=qt+q[i]\n",
    "    #Calculating flowrate for next iteration\n",
    "    for i in range(n):\n",
    "        q[i]=(Qi)*q[i]/qt\n",
    "    if abs(sum(q)-Qi>tol) and m<mmax:\n",
    "        m=m+1\n",
    "\n",
    "print(m)"
   ]
  },
  {
   "cell_type": "code",
   "execution_count": 299,
   "metadata": {},
   "outputs": [
    {
     "name": "stdout",
     "output_type": "stream",
     "text": [
      "[32.63202037 32.13320713 35.2347725 ]\n"
     ]
    },
    {
     "data": {
      "image/png": "[encoded data removed]",
      "text/plain": [
       "<Figure size 576x360 with 1 Axes>"
      ]
     },
     "metadata": {
      "needs_background": "light"
     },
     "output_type": "display_data"
    },
    {
     "name": "stdout",
     "output_type": "stream",
     "text": [
      "Friction Head= 95.28113462491 m\n",
      "Del P= 0.9337551193241179 MPa\n",
      "Del P= 135.42997499653143 psi\n"
     ]
    }
   ],
   "source": [
    "#Flow Distribution\n",
    "distpct=np.empty(n)\n",
    "temp=np.empty(n)\n",
    "plt.figure(figsize = (8,5))\n",
    "# set width of bar\n",
    "barWidth = 1*(n-1)/(n+1)\n",
    "\n",
    "for i in range(0,n):\n",
    "    distpct[i]=100*(q[i]/sum(q))\n",
    "x = np.linspace(1, n, n)\n",
    "pmin=min(distpct)\n",
    "pmax=max(distpct)\n",
    "plt.ylim(ymin=pmin*0.8)\n",
    "plt.ylim(ymax=pmax*1.05)\n",
    "plt.hlines(100/n, 0, n+1, colors='r', linestyles='solid',zorder=3)              \n",
    "plt.bar(x,distpct,width=barWidth,zorder=2)\n",
    "# Add xticks on the middle of the group bars\n",
    "plt.xticks(np.arange(1, n+1, step=1))\n",
    "plt.xlabel('Fracture Number', fontweight='bold',fontsize=14)\n",
    "plt.ylabel('Percentage Flow (%)', fontweight='bold',fontsize=14)\n",
    "if dircn==0 and d1==0:\n",
    "    plt.title('Flow Distribution (Parallel)', fontweight='bold',fontsize=18)\n",
    "elif dircn==1 and d1==0:\n",
    "    plt.title('Flow Distribution (Anti-Parallel)', fontweight='bold',fontsize=18)\n",
    "elif dircn==0 and d1!=0:\n",
    "    plt.title('Flow Distribution (Non-Parallel)', fontweight='bold',fontsize=18)\n",
    "else:\n",
    "    plt.title('\\nFlow Distribution in Fractures', fontweight='bold',fontsize=18)\n",
    "#plt.legend(loc=\"upper center\",ncol=3,bbox_to_anchor= (0.5, -0.15),prop={'size': 12},frameon=True)\n",
    "plt.grid(which='major', axis='both',color='lightgrey',zorder=1)\n",
    "plt.savefig(r'%s/1.png' %path, bbox_inches='tight')\n",
    "print(distpct)\n",
    "plt.show()\n",
    "print(\"Friction Head= \"+str((max(Pi)-min(Po))/(9.8*1000))+\" m\")\n",
    "print(\"Del P= \"+str((max(Pi)-min(Po))/1e6)+\" MPa\")\n",
    "print(\"Del P= \"+str(145.038*(max(Pi)-min(Po))/1e6)+\" psi\")"
   ]
  },
  {
   "cell_type": "code",
   "execution_count": 248,
   "metadata": {},
   "outputs": [
    {
     "data": {
      "image/png": "[encoded data removed]",
      "text/plain": [
       "<Figure size 576x360 with 1 Axes>"
      ]
     },
     "metadata": {
      "needs_background": "light"
     },
     "output_type": "display_data"
    }
   ],
   "source": [
    "pplots(Kf,n,\"Permeability\",\"yes\",path)"
   ]
  }
 ],
 "metadata": {
  "kernelspec": {
   "display_name": "Python 3",
   "language": "python",
   "name": "python3"
  },
  "language_info": {
   "codemirror_mode": {
    "name": "ipython",
    "version": 3
   },
   "file_extension": ".py",
   "mimetype": "text/x-python",
   "name": "python",
   "nbconvert_exporter": "python",
   "pygments_lexer": "ipython3",
   "version": "3.8.3"
  }
 },
 "nbformat": 4,
 "nbformat_minor": 4
}
