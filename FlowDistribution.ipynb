{
 "cells": [
  {
   "cell_type": "code",
   "execution_count": 1,
   "metadata": {},
   "outputs": [],
   "source": [
    "#      o----/\\/\\/\\----|----/\\/\\/\\----|----/\\/\\/\\----|----/\\/\\/\\----|\n",
    "#                     |              |              |              |\n",
    "#                     /              /              /              /\n",
    "#                     \\              \\              \\              /\n",
    "#                     /              /              /              /\n",
    "#                     |              |              |              |\n",
    "#      o----/\\/\\/\\----|----/\\/\\/\\----|----/\\/\\/\\----|----/\\/\\/\\----|\n",
    "\n",
    "#                 |----/\\/\\/\\----|----/\\/\\/\\----|----/\\/\\/\\----|----/\\/\\/\\----o\n",
    "#                 |              |              |              |\n",
    "#                 /              /              /              /\n",
    "#                 \\              \\              \\              \\\n",
    "#                 /              /              /              /\n",
    "#                 |              |              |              |\n",
    "#  o----/\\/\\/\\----|----/\\/\\/\\----|----/\\/\\/\\----|----/\\/\\/\\----|"
   ]
  },
  {
   "cell_type": "code",
   "execution_count": 2,
   "metadata": {},
   "outputs": [],
   "source": [
    "import numpy as np  #Importing NumPy\n",
    "import math\n",
    "import matplotlib.pyplot as plt\n",
    "import random\n",
    "from ipynb.fs.defs.FrictionFactors import * #Imports all the functions"
   ]
  },
  {
   "cell_type": "code",
   "execution_count": 3,
   "metadata": {},
   "outputs": [],
   "source": [
    "import platform\n",
    "is_windows = any(platform.win32_ver())\n",
    "if is_windows==True:\n",
    "    path=r'C:\\Users\\prana\\Google Drive (u1011561@gcloud.utah.edu)\\PhD\\Geothermal\\AnalyticalModel\\Images'\n",
    "else:\n",
    "    path=r'/Users/asai/Google Drive (u1011561@gcloud.utah.edu)/PhD/Geothermal/AnalyticalModel/Images/'"
   ]
  },
  {
   "cell_type": "code",
   "execution_count": 4,
   "metadata": {},
   "outputs": [],
   "source": [
    "#For Fracture\n",
    "NumberOfFractures=10\n",
    "TotalWellLength=1000 #m, Length of the well\n",
    "BasePermeability=1e-12 #m2, #Fracture base Permebility\n",
    "FractureHeight=100 #m Fracture entrance length\n",
    "FractureWidth=5.0 #m Fracture entrance pseudo width\n",
    "BaseFractureLength=100 #m Height of fractures\n",
    "Area_FractureEntrance=FractureHeight*FractureWidth #Area of fracture for the fluid to enter\n",
    "\n",
    "#For Pipe\n",
    "Diameter_InjectionWell=0.1524#*(0.5/0.1524)   #m Diameter of the Injection Pipe\n",
    "Diameter_ProductionWell=0.1524#*(0.5/0.1524)  #m Diameter of the Production Pipe\n",
    "Area_InjectionWell=math.pi*Diameter_InjectionWell**2*0.25 #meters sq.\n",
    "Area_ProductionWell=math.pi*Diameter_InjectionWell**2*0.25 #meters sq.\n",
    "DensityWater=1000 #kg/s\n",
    "e=0.015/1000  #roughness in m\n",
    "BaseInjectionWellSection=TotalWellLength/NumberOfFractures #m Length of Inj pipe section\n",
    "BaseProductionWellSection=TotalWellLength/NumberOfFractures #m Length of Prod pipe section\n",
    "\n",
    "#For Perforation\n",
    "LengthOfPerfZone=1 #m, length og each perf zone\n",
    "Cd=0.75 #Discharge Coefficient\n",
    "NumberOfPerfPerMeter=10 # Number of perforations per meter\n",
    "NumberOfPerfs=LengthOfPerfZone*NumberOfPerfPerMeter #Number of Perforations\n",
    "BaseDiameter_InjectionPerforation=0.003175*3#*0.5 #m, Diameter of perforations\n",
    "BaseDiameterProductionPerforation=0.003175*3#*0.5 #m, Diameter of perforations"
   ]
  },
  {
   "cell_type": "code",
   "execution_count": 5,
   "metadata": {},
   "outputs": [],
   "source": [
    "#Initialization\n",
    "Pressure_Injection=np.zeros(NumberOfFractures+1)\n",
    "Pressure_Production=np.zeros(NumberOfFractures+1)\n",
    "Pressure_Fracture=np.zeros(NumberOfFractures)\n",
    "Flowrate_Fracture=np.zeros(NumberOfFractures)\n",
    "FractureLength=np.zeros(NumberOfFractures)\n",
    "InjectionWellSection=np.zeros(NumberOfFractures+1)\n",
    "ProductionWellSection=np.zeros(NumberOfFractures+1)\n",
    "Permeability_Fracture=np.zeros(NumberOfFractures)\n",
    "Diameter_InjectionPerforation=np.zeros(NumberOfFractures)\n",
    "Diameter_ProductionPerforation=np.zeros(NumberOfFractures)\n",
    "WellAngle=0"
   ]
  },
  {
   "cell_type": "code",
   "execution_count": 6,
   "metadata": {},
   "outputs": [],
   "source": [
    "#Flow Rate and Pressure\n",
    "Flowrate_Initial=50 #kg/s\n",
    "Pressure_Injection[0]=3e7"
   ]
  },
  {
   "cell_type": "code",
   "execution_count": 7,
   "metadata": {},
   "outputs": [],
   "source": [
    "#CONTROL VARIABLES\n",
    "\n",
    "#Turn on pressure drop in injection well\n",
    "InjectionWellActivate=1 #if 1, the pressure drop in the well is on\n",
    "#Turn on pressure drop in production well\n",
    "ProductionWellActivate=1 #if 1, the pressure drop in the well is on\n",
    "#Activate Perforation\n",
    "ActivateInjectionPerforations=1  #If 0, perforation pressure drop is zero.\n",
    "#activate production well perforation\n",
    "ActivateProductionPerforations=1\n",
    "\n",
    "#Variable Permeablity\n",
    "# If 0, All fractures have same permeability\n",
    "# If 1, The permeability values are assigned at random with respect to the base value\n",
    "# If 2, Option to input custom permeability values.\n",
    "VariablePermeability=0\n",
    "\n",
    "\n",
    "#ORIENTATION OF WELLS\n",
    "# If 1, The wells are Parallel\n",
    "# If 2, The wells are Anti-Parallel\n",
    "# If 3, The wells are Non-Parallel  # Input the Difference between first and last fracture\n",
    "WellsOrientation=2\n",
    "\n",
    "if WellsOrientation==3:\n",
    "    d1=float(input(\"Enter the difference between the first and last fracture size: \"))\n",
    "    BaseFractureLength=BaseFractureLength-d1/2\n",
    "    WellAngle=math.atan((d1/2)/((n-1)*BaseInjectionWellSection)) #Angle of Injection well\n",
    "    print(math.degrees(WellAngle)*2)\n",
    "for i in range(NumberOfFractures):\n",
    "    Flowrate_Fracture[i]=Flowrate_Initial/NumberOfFractures\n",
    "    FractureLength[i]=abs(BaseFractureLength+(NumberOfFractures-i-1)*math.tan(WellAngle)*BaseInjectionWellSection+(NumberOfFractures-i-1)*math.tan(WellAngle)*BaseProductionWellSection)\n",
    "for i in range(NumberOfFractures+1):\n",
    "    InjectionWellSection[i]=BaseInjectionWellSection/math.cos(WellAngle)\n",
    "    ProductionWellSection[i]=BaseProductionWellSection/math.cos(WellAngle)\n",
    "\n",
    "#Adaptive Perf Dia\n",
    "pfdia=0 #If 0, Adaptive dia is off."
   ]
  },
  {
   "cell_type": "code",
   "execution_count": 8,
   "metadata": {},
   "outputs": [],
   "source": [
    "#Calculate Fracture Permeability\n",
    "#Function is defined as:\n",
    "# var1*BasePermeability*(10^var2), where Var1 varies from 1 to 10 and Var2 varies from -1, 0 or 1, at random.\n",
    "if VariablePermeability!=2:\n",
    "    Permeability_Fracture=FracturePermeability(NumberOfFractures,BasePermeability,FractureWidth,FractureHeight,VariablePermeability)\n",
    "else:\n",
    "    for i in range(NumberOfFractures):\n",
    "        #Define any custom function\n",
    "        if i%2==0:\n",
    "            Permeability_Fracture[i]=BasePermeability/2\n",
    "        else:\n",
    "            Permeability_Fracture[i]=BasePermeability"
   ]
  },
  {
   "cell_type": "code",
   "execution_count": 9,
   "metadata": {},
   "outputs": [
    {
     "data": {
      "image/png": "[encoded data removed]",
      "text/plain": [
       "<Figure size 576x360 with 1 Axes>"
      ]
     },
     "metadata": {
      "needs_background": "light"
     },
     "output_type": "display_data"
    }
   ],
   "source": [
    "pplots(Permeability_Fracture,NumberOfFractures,\"Permeability\",\"yes\",path)"
   ]
  },
  {
   "cell_type": "code",
   "execution_count": 10,
   "metadata": {},
   "outputs": [],
   "source": [
    "#Calculate Perforations\n",
    "\n",
    "#Calculating Geometric mean of fractures\n",
    "GMean = math.prod(Permeability_Fracture)**(1/len(Permeability_Fracture))\n",
    "\n",
    "for i in range(NumberOfFractures):\n",
    "    if VariablePermeability==0:\n",
    "        if pfdia==1:\n",
    "            Diameter_InjectionPerforation[i]=((i+2)**0.2/n**0.04)*BaseDiameter_InjectionPerforation #The inittial term is penalty for location\n",
    "            Diameter_ProductionPerforation[i]=((i+2)**0.2/n**0.04)*BaseDiameterProductionPerforation #The inittial term is penalty for location\n",
    "        else:\n",
    "            Diameter_InjectionPerforation[i]=BaseDiameter_InjectionPerforation\n",
    "            Diameter_ProductionPerforation[i]=BaseDiameterProductionPerforation\n",
    "    else:\n",
    "        if pfdia==1:\n",
    "            Diameter_InjectionPerforation[i]=BaseDiameter_InjectionPerforation*(1.3**(math.log(GMean/Permeability_Fracture[i],10)))\n",
    "            Diameter_ProductionPerforation[i]=BaseDiameter_InjectionPerforation*(1.3**(math.log(GMean/Permeability_Fracture[i],10)))\n",
    "        else:\n",
    "            Diameter_InjectionPerforation[i]=BaseDiameter_InjectionPerforation\n",
    "            Diameter_ProductionPerforation[i]=BaseDiameterProductionPerforation"
   ]
  },
  {
   "cell_type": "code",
   "execution_count": 11,
   "metadata": {},
   "outputs": [],
   "source": [
    "if pfdia==5:\n",
    "    Diameter_InjectionPerforation[0]=BaseDiameter_InjectionPerforation*0.9\n",
    "    Diameter_InjectionPerforation[1]=BaseDiameter_InjectionPerforation*1.5\n",
    "    Diameter_InjectionPerforation[2]=BaseDiameter_InjectionPerforation*0.7\n",
    "    Diameter_InjectionPerforation[3]=BaseDiameter_InjectionPerforation*0.7\n",
    "    Diameter_InjectionPerforation[4]=BaseDiameter_InjectionPerforation*0.7\n",
    "    Diameter_InjectionPerforation[5]=BaseDiameter_InjectionPerforation*0.7\n",
    "    Diameter_InjectionPerforation[6]=BaseDiameter_InjectionPerforation*0.7\n",
    "    Diameter_InjectionPerforation[7]=BaseDiameter_InjectionPerforation*1.5\n",
    "    Diameter_InjectionPerforation[8]=BaseDiameter_InjectionPerforation*1.5\n",
    "    Diameter_InjectionPerforation[9]=BaseDiameter_InjectionPerforation*0.7\n",
    "    for i in range(i):\n",
    "        Diameter_ProductionPerforation[i]=Diameter_InjectionPerforation[i]"
   ]
  },
  {
   "cell_type": "code",
   "execution_count": 12,
   "metadata": {},
   "outputs": [
    {
     "name": "stdout",
     "output_type": "stream",
     "text": [
      "1000\n"
     ]
    }
   ],
   "source": [
    "MaxIterations=1000 #number of iterations\n",
    "#mmax=10000 #max number of iterations\n",
    "Tolerance=1e-6 #Tolerance\n",
    "Flowrate_Update=np.zeros(NumberOfFractures)\n",
    "Flowrate_Frac1=np.zeros(MaxIterations)\n",
    "Flowrate_Frac5=np.zeros(MaxIterations)\n",
    "\n",
    "for j in range(MaxIterations):\n",
    "    Flowrate_Cumulative=Flowrate_Initial/1000\n",
    "    #pressure drop in injection well\n",
    "    for i in range(NumberOfFractures):\n",
    "        if InjectionWellActivate==0:\n",
    "            Pressure_Injection[i+1]=Pressure_Injection[i]\n",
    "        else:            \n",
    "            Pressure_Injection[i+1]=Pressure_Injection[i]-Fhal(e,Diameter_InjectionWell,Rep(Flowrate_Cumulative,Diameter_InjectionWell))*2*InjectionWellSection[i+1]*DensityWater*(Flowrate_Cumulative/Area_InjectionWell)**2/Diameter_InjectionWell\n",
    "        Flowrate_Cumulative=Flowrate_Cumulative-Flowrate_Fracture[i]/1000\n",
    "\n",
    "    #Pressure drop in Production well\n",
    "    Flowrate_Cumulative=Flowrate_Fracture[NumberOfFractures-1]/1000\n",
    "    if WellsOrientation!=2:\n",
    "        #pressure drops in last Fracture\n",
    "        if ActivateInjectionPerforations==1 and ActivateProductionPerforations==1: #Activate all perforations\n",
    "            Pressure_Production[NumberOfFractures]=Pressure_Injection[NumberOfFractures]-Pfdarcy(Flowrate_Fracture[NumberOfFractures-1]/1000,FractureLength[NumberOfFractures-1],Area_FractureEntrance,Permeability_Fracture[NumberOfFractures-1])-Pperf(Flowrate_Fracture[NumberOfFractures-1]/1000,Cd,NumberOfPerfs,Diameter_InjectionPerforation[NumberOfFractures-1])-Pperf(Flowrate_Fracture[NumberOfFractures-1]/1000,Cd,NumberOfPerfs,Diameter_ProductionPerforation[NumberOfFractures-1])\n",
    "        elif ActivateInjectionPerforations==0 and ActivateProductionPerforations==1: #Activate only production perforations\n",
    "            Pressure_Production[NumberOfFractures]=Pressure_Injection[NumberOfFractures]-Pfdarcy(Flowrate_Fracture[NumberOfFractures-1]/1000,FractureLength[NumberOfFractures-1],Area_FractureEntrance,Permeability_Fracture[NumberOfFractures-1])-Pperf(Flowrate_Fracture[NumberOfFractures-1]/1000,Cd,NumberOfPerfs,Diameter_ProductionPerforation[NumberOfFractures-1])\n",
    "        elif ActivateInjectionPerforations==1 and ActivateProductionPerforations==0: #Activate only injection perforations\n",
    "            Pressure_Production[NumberOfFractures]=Pressure_Injection[NumberOfFractures]-Pfdarcy(Flowrate_Fracture[NumberOfFractures-1]/1000,FractureLength[NumberOfFractures-1],Area_FractureEntrance,Permeability_Fracture[NumberOfFractures-1])-Pperf(Flowrate_Fracture[NumberOfFractures-1]/1000,Cd,NumberOfPerfs,Diameter_InjectionPerforation[NumberOfFractures-1])\n",
    "        elif ActivateInjectionPerforations==0 and ActivateProductionPerforations==0: #Turn off all perforations\n",
    "            Pressure_Production[NumberOfFractures]=Pressure_Injection[NumberOfFractures]-Pfdarcy(Flowrate_Fracture[NumberOfFractures-1]/1000,FractureLength[NumberOfFractures-1],Area_FractureEntrance,Permeability_Fracture[NumberOfFractures-1])\n",
    "    \n",
    "\n",
    "        for i in range(NumberOfFractures,0,-1):\n",
    "            #turning off production well pressure drop\n",
    "            if ProductionWellActivate==0:\n",
    "                Pressure_Production[i-1]=Pressure_Production[i]\n",
    "            else:\n",
    "                Pressure_Production[i-1]=Pressure_Production[i]-Fhal(e,Diameter_ProductionWell,Rep(Flowrate_Cumulative,Diameter_ProductionWell))*2*ProductionWellSection[i-1]*DensityWater*(Flowrate_Cumulative/Area_ProductionWell)**2/Diameter_ProductionWell\n",
    "            Flowrate_Cumulative=Flowrate_Cumulative+Flowrate_Fracture[i-1]/1000\n",
    "        #Flow Rate in all Fractures\n",
    "        Flowrate_Reinitilized=0\n",
    "        for i in range(NumberOfFractures):\n",
    "            Pressure_Fracture[i]=Pressure_Injection[i+1]-Pressure_Production[i+1]\n",
    "            if ActivateInjectionPerforations==1 and ActivateProductionPerforations==1: #Activate all perforations\n",
    "                Flowrate_Fracture[i]=Q_all_perfs(Pressure_Fracture[i],FractureLength[i],Area_FractureEntrance,Permeability_Fracture[i],Cd,NumberOfPerfs,Diameter_InjectionPerforation[i],Diameter_ProductionPerforation[i])*1000\n",
    "            elif ActivateInjectionPerforations==0 and ActivateProductionPerforations==1: #Activate only production perforations\n",
    "                Flowrate_Fracture[i]=Q_Production_perfs(Pressure_Fracture[i],FractureLength[i],Area_FractureEntrance,Permeability_Fracture[i],Cd,NumberOfPerfs,Diameter_ProductionPerforation[i])*1000\n",
    "            elif ActivateInjectionPerforations==1 and ActivateProductionPerforations==0: #Activate only injection perforations\n",
    "                Flowrate_Fracture[i]=Q_Injection_perfs(Pressure_Fracture[i],FractureLength[i],Area_FractureEntrance,Permeability_Fracture[i],Cd,NumberOfPerfs,Diameter_InjectionPerforation[i])*1000\n",
    "            elif ActivateInjectionPerforations==0 and ActivateProductionPerforations==0: #Turn off all perforations            \n",
    "                Flowrate_Fracture[i]=Q_No_perfs(Pressure_Fracture[i],FractureLength[i],Area_FractureEntrance,Permeability_Fracture[i])*1000\n",
    "            \n",
    "            Flowrate_Reinitilized=Flowrate_Reinitilized+Flowrate_Fracture[i]\n",
    "    else:\n",
    "        #pressure drops in First Fracture\n",
    "        if ActivateInjectionPerforations==1 and ActivateProductionPerforations==1: #Activate all perforations\n",
    "            Pressure_Production[0]=Pressure_Injection[1]-Pfdarcy(Flowrate_Fracture[0]/1000,FractureLength[0],Area_FractureEntrance,Permeability_Fracture[0])-Pperf(Flowrate_Fracture[0]/1000,Cd,NumberOfPerfs,Diameter_InjectionPerforation[0])-Pperf(Flowrate_Fracture[0]/1000,Cd,NumberOfPerfs,Diameter_ProductionPerforation[0])\n",
    "        elif ActivateInjectionPerforations==0 and ActivateProductionPerforations==1: #Activate only production perforations\n",
    "            Pressure_Production[0]=Pressure_Injection[1]-Pfdarcy(Flowrate_Fracture[0]/1000,FractureLength[0],Area_FractureEntrance,Permeability_Fracture[0])-Pperf(Flowrate_Fracture[0]/1000,Cd,NumberOfPerfs,Diameter_ProductionPerforation[0])\n",
    "        elif ActivateInjectionPerforations==1 and ActivateProductionPerforations==0: #Activate only injection perforations    \n",
    "            Pressure_Production[0]=Pressure_Injection[1]-Pfdarcy(Flowrate_Fracture[0]/1000,FractureLength[0],Area_FractureEntrance,Permeability_Fracture[0])-Pperf(Flowrate_Fracture[0]/1000,Cd,NumberOfPerfs,Diameter_InjectionPerforation[0])\n",
    "        elif ActivateInjectionPerforations==0 and ActivateProductionPerforations==0: #Turn off all perforations    \n",
    "            Pressure_Production[0]=Pressure_Injection[1]-Pfdarcy(Flowrate_Fracture[0]/1000,FractureLength[0],Area_FractureEntrance,Permeability_Fracture[0])\n",
    "        \n",
    "        #Pressure drop in Production well\n",
    "        Flowrate_ProductionReinitilized=0\n",
    "        for i in range(NumberOfFractures):\n",
    "            Flowrate_ProductionReinitilized=Flowrate_ProductionReinitilized+Flowrate_Fracture[i]/1000\n",
    "            if ProductionWellActivate==0:\n",
    "                Pressure_Production[i+1]=Pressure_Production[i]\n",
    "            else:\n",
    "                Pressure_Production[i+1]=Pressure_Production[i]-Fhal(e,Diameter_ProductionWell,Rep(Flowrate_ProductionReinitilized,Diameter_ProductionWell))*2*ProductionWellSection[i-1]*DensityWater*(Flowrate_ProductionReinitilized/Area_ProductionWell)**2/Diameter_ProductionWell\n",
    "        \n",
    "        #Flow Rate in all Fractures including perf\n",
    "        Flowrate_Reinitilized=0\n",
    "        for i in range(NumberOfFractures):\n",
    "            Pressure_Fracture[i]=Pressure_Injection[i+1]-Pressure_Production[i]\n",
    "            if Pressure_Fracture[i]>0:\n",
    "                if ActivateInjectionPerforations==1 and ActivateProductionPerforations==1: #Activate all perforations\n",
    "                    Flowrate_Fracture[i]=Q_all_perfs(Pressure_Fracture[i],FractureLength[i],Area_FractureEntrance,Permeability_Fracture[i],Cd,NumberOfPerfs,Diameter_InjectionPerforation[i],Diameter_ProductionPerforation[i])*1000\n",
    "                elif ActivateInjectionPerforations==0 and ActivateProductionPerforations==1: #Activate only production perforations\n",
    "                    Flowrate_Fracture[i]=Q_Production_perfs(Pressure_Fracture[i],FractureLength[i],Area_FractureEntrance,Permeability_Fracture[i],Cd,NumberOfPerfs,Diameter_ProductionPerforation[i])*1000\n",
    "                elif ActivateInjectionPerforations==1 and ActivateProductionPerforations==0: #Activate only injection perforations\n",
    "                    Flowrate_Fracture[i]=Q_Injection_perfs(Pressure_Fracture[i],FractureLength[i],Area_FractureEntrance,Permeability_Fracture[i],Cd,NumberOfPerfs,Diameter_InjectionPerforation[i])*1000\n",
    "                elif ActivateInjectionPerforations==0 and ActivateProductionPerforations==0: #Turn off all perforations            \n",
    "                    Flowrate_Fracture[i]=Q_No_perfs(Pressure_Fracture[i],FractureLength[i],Area_FractureEntrance,Permeability_Fracture[i])*1000                \n",
    "\n",
    "            else:\n",
    "                Flowrate_Fracture[i]=0.01\n",
    "            Flowrate_Reinitilized=Flowrate_Reinitilized+Flowrate_Fracture[i]\n",
    "                \n",
    "    Flowrate_Frac1[j]=Flowrate_Fracture[0]\n",
    "    Flowrate_Frac5[j]=Flowrate_Fracture[5]\n",
    "    #Calculating flowrate for next iteration\n",
    "    for i in range(NumberOfFractures):\n",
    "        Flowrate_Fracture[i]=(Flowrate_Initial)*Flowrate_Fracture[i]/Flowrate_Reinitilized\n",
    "        \n",
    "    Flowrate_Update=Flowrate_Update+np.array(Flowrate_Fracture)\n",
    "    if j>50:\n",
    "        Flowrate_Fracture=Flowrate_Update/j\n",
    "print(MaxIterations)"
   ]
  },
  {
   "cell_type": "code",
   "execution_count": 13,
   "metadata": {},
   "outputs": [
    {
     "data": {
      "image/png": "[encoded data removed]",
      "text/plain": [
       "<Figure size 1080x360 with 1 Axes>"
      ]
     },
     "metadata": {
      "needs_background": "light"
     },
     "output_type": "display_data"
    }
   ],
   "source": [
    "#Convergenge plot\n",
    "a=Flowrate_Initial/NumberOfFractures\n",
    "Flowrate_Frac1=np.insert(Flowrate_Frac1,0,a)\n",
    "Flowrate_Frac5=np.insert(Flowrate_Frac5,0,a)\n",
    "plt.figure(figsize = (15,5))\n",
    "plt.plot(Flowrate_Frac1[0:MaxIterations])\n",
    "plt.plot(Flowrate_Frac5[0:MaxIterations])\n",
    "plt.xticks(fontsize=14)\n",
    "plt.yticks(fontsize=14)\n",
    "plt.autoscale() \n",
    "plt.legend(['Corner','Middle'],loc=\"upper center\",ncol=5,bbox_to_anchor= (0.5, -0.15),prop={'size': 14},frameon=True)\n",
    "plt.grid(which='major', axis='both',color='lightgrey',zorder=1)\n",
    "plt.ylabel('Flow Rate (kg/s)', fontweight='bold',fontsize=16)\n",
    "plt.xlabel('Number of Steps', fontweight='bold',fontsize=16)\n",
    "plt.savefig(r'/Users/asai/Google Drive (u1011561@gcloud.utah.edu)/PhD/Research/Prospective Papers/3. Analytical Model for Fluid Flow Distribution in an Enhanced Geothermal Systems/Results/images/Convergence', bbox_inches='tight')\n",
    "plt.show()"
   ]
  },
  {
   "cell_type": "code",
   "execution_count": 14,
   "metadata": {},
   "outputs": [
    {
     "name": "stdout",
     "output_type": "stream",
     "text": [
      "[11.515063040340198, 10.491952567508582, 9.734696846198098, 9.23564911270486, 8.9889359643455, 8.991471525451745, 9.243340757476256, 9.747793719992615, 10.510848271581864, 11.540248194400275]\n"
     ]
    },
    {
     "data": {
      "image/png": "[encoded data removed]",
      "text/plain": [
       "<Figure size 576x360 with 1 Axes>"
      ]
     },
     "metadata": {
      "needs_background": "light"
     },
     "output_type": "display_data"
    },
    {
     "name": "stdout",
     "output_type": "stream",
     "text": [
      "Friction Head= 189.08097018496684 m\n",
      "Del P= 1.8529935078126751 MPa\n",
      "Del P= 268.7544723861348 psi\n"
     ]
    }
   ],
   "source": [
    "#Flow Distribution\n",
    "distpct=np.empty(NumberOfFractures)\n",
    "temp=np.empty(NumberOfFractures)\n",
    "plt.figure(figsize = (8,5))\n",
    "# set width of bar\n",
    "barWidth = 1*(NumberOfFractures-1)/(NumberOfFractures+1)\n",
    "\n",
    "for i in range(NumberOfFractures):\n",
    "    distpct[i]=100*(Flowrate_Fracture[i]/sum(Flowrate_Fracture))\n",
    "x = np.linspace(1, NumberOfFractures, NumberOfFractures)\n",
    "pmin=min(distpct)\n",
    "pmax=max(distpct)\n",
    "plt.ylim(ymin=pmin*0.8)\n",
    "plt.ylim(ymax=pmax*1.05)\n",
    "plt.hlines(100/NumberOfFractures, 0, NumberOfFractures+1, colors='r', linestyles='solid',zorder=3)              \n",
    "plt.bar(x,distpct,width=barWidth,zorder=2)\n",
    "# Add xticks on the middle of the group bars\n",
    "plt.xticks(np.arange(1, NumberOfFractures+1, step=1))\n",
    "plt.xlabel('Fracture Number', fontweight='bold',fontsize=14)\n",
    "plt.ylabel('Percentage Flow (%)', fontweight='bold',fontsize=14)\n",
    "if WellsOrientation==1:\n",
    "    plt.title('Flow Distribution (Parallel)', fontweight='bold',fontsize=18)\n",
    "elif WellsOrientation==2:\n",
    "    plt.title('Flow Distribution (Anti-Parallel)', fontweight='bold',fontsize=18)\n",
    "elif WellsOrientation==3:\n",
    "    plt.title('Flow Distribution (Non-Parallel)', fontweight='bold',fontsize=18)\n",
    "else:\n",
    "    plt.title('\\nFlow Distribution in Fractures', fontweight='bold',fontsize=18)\n",
    "#plt.legend(loc=\"upper center\",ncol=3,bbox_to_anchor= (0.5, -0.15),prop={'size': 12},frameon=True)\n",
    "plt.grid(which='major', axis='both',color='lightgrey',zorder=1)\n",
    "plt.savefig(r'%s/1.png' %path, bbox_inches='tight')\n",
    "print(list(distpct))\n",
    "plt.show()\n",
    "#pplots(Pi,n,\"Inlet\",\"yes\")\n",
    "#pplots(Po,n,\"Outlet\",\"yes\")\n",
    "print(\"Friction Head= \"+str((max(Pressure_Injection)-min(Pressure_Production))/(9.8*1000))+\" m\")\n",
    "print(\"Del P= \"+str((max(Pressure_Injection)-min(Pressure_Production))/1e6)+\" MPa\")\n",
    "print(\"Del P= \"+str(145.038*(max(Pressure_Injection)-min(Pressure_Production))/1e6)+\" psi\")"
   ]
  },
  {
   "cell_type": "code",
   "execution_count": null,
   "metadata": {},
   "outputs": [],
   "source": []
  }
 ],
 "metadata": {
  "kernelspec": {
   "display_name": "Python 3",
   "language": "python",
   "name": "python3"
  },
  "language_info": {
   "codemirror_mode": {
    "name": "ipython",
    "version": 3
   },
   "file_extension": ".py",
   "mimetype": "text/x-python",
   "name": "python",
   "nbconvert_exporter": "python",
   "pygments_lexer": "ipython3",
   "version": "3.8.3"
  }
 },
 "nbformat": 4,
 "nbformat_minor": 4
}
